{
  "nbformat": 4,
  "nbformat_minor": 0,
  "metadata": {
    "colab": {
      "provenance": [],
      "authorship_tag": "ABX9TyP/F1m1TQDqsVPYOmvdXDSo",
      "include_colab_link": true
    },
    "kernelspec": {
      "name": "python3",
      "display_name": "Python 3"
    },
    "language_info": {
      "name": "python"
    }
  },
  "cells": [
    {
      "cell_type": "markdown",
      "metadata": {
        "id": "view-in-github",
        "colab_type": "text"
      },
      "source": [
        "<a href=\"https://colab.research.google.com/github/mitalithakur09/While-Questions/blob/main/Palindrome_Number.ipynb\" target=\"_parent\"><img src=\"https://colab.research.google.com/assets/colab-badge.svg\" alt=\"Open In Colab\"/></a>"
      ]
    },
    {
      "cell_type": "code",
      "execution_count": 22,
      "metadata": {
        "colab": {
          "base_uri": "https://localhost:8080/"
        },
        "id": "sTJJjADa454N",
        "outputId": "c7f18c96-9a08-4837-b8fc-bb5c34b56c90"
      },
      "outputs": [
        {
          "output_type": "stream",
          "name": "stdout",
          "text": [
            "15351\n",
            "It is a palindrome\n"
          ]
        }
      ],
      "source": [
        "n=15351\n",
        "rev=0\n",
        "i=n\n",
        "\n",
        "while n!=0:\n",
        "  digit = n%10\n",
        "  rev = rev*10+digit\n",
        "  n=n//10\n",
        "print(rev)\n",
        "if i==rev:\n",
        "  print(\"It is a palindrome\")\n",
        "else:\n",
        "  print(\"It is not a palindrome\")\n",
        "\n"
      ]
    }
  ]
}