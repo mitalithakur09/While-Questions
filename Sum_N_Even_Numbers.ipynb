{
  "nbformat": 4,
  "nbformat_minor": 0,
  "metadata": {
    "colab": {
      "provenance": [],
      "authorship_tag": "ABX9TyPEsH8Oi5L3uNLwV/fAo8nC",
      "include_colab_link": true
    },
    "kernelspec": {
      "name": "python3",
      "display_name": "Python 3"
    },
    "language_info": {
      "name": "python"
    }
  },
  "cells": [
    {
      "cell_type": "markdown",
      "metadata": {
        "id": "view-in-github",
        "colab_type": "text"
      },
      "source": [
        "<a href=\"https://colab.research.google.com/github/mitalithakur09/While-Questions/blob/main/Sum_N_Even_Numbers.ipynb\" target=\"_parent\"><img src=\"https://colab.research.google.com/assets/colab-badge.svg\" alt=\"Open In Colab\"/></a>"
      ]
    },
    {
      "cell_type": "code",
      "execution_count": 8,
      "metadata": {
        "colab": {
          "base_uri": "https://localhost:8080/"
        },
        "id": "nBc48gkJNBjQ",
        "outputId": "0bc2ee5b-4614-420f-b8ce-31cabd3d3512"
      },
      "outputs": [
        {
          "output_type": "stream",
          "name": "stdout",
          "text": [
            "23562\n"
          ]
        }
      ],
      "source": [
        "n = 153\n",
        "i=1\n",
        "sum = 0\n",
        "count = 0\n",
        "while (count<n):\n",
        "  if (i%2==0):\n",
        "    sum = sum+i\n",
        "    count = count+1\n",
        "  i =i+1\n",
        "print(sum)\n"
      ]
    }
  ]
}