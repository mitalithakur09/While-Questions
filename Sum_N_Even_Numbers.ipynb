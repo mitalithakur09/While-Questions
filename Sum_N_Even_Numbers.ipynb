{
  "nbformat": 4,
  "nbformat_minor": 0,
  "metadata": {
    "colab": {
      "provenance": [],
      "authorship_tag": "ABX9TyNX1E9n8ee1lqDXL8PlUwDT",
      "include_colab_link": true
    },
    "kernelspec": {
      "name": "python3",
      "display_name": "Python 3"
    },
    "language_info": {
      "name": "python"
    }
  },
  "cells": [
    {
      "cell_type": "markdown",
      "metadata": {
        "id": "view-in-github",
        "colab_type": "text"
      },
      "source": [
        "<a href=\"https://colab.research.google.com/github/mitalithakur09/While-Questions/blob/main/Sum_N_Even_Numbers.ipynb\" target=\"_parent\"><img src=\"https://colab.research.google.com/assets/colab-badge.svg\" alt=\"Open In Colab\"/></a>"
      ]
    },
    {
      "cell_type": "code",
      "execution_count": 5,
      "metadata": {
        "colab": {
          "base_uri": "https://localhost:8080/"
        },
        "id": "nBc48gkJNBjQ",
        "outputId": "5d763e14-4ec9-4c51-ab16-d21ccf3b6372"
      },
      "outputs": [
        {
          "output_type": "stream",
          "name": "stdout",
          "text": [
            "Enter the number21\n",
            "506\n"
          ]
        }
      ],
      "source": [
        "n=int(input(\"Enter the number\"))\n",
        "i=1\n",
        "sum=0\n",
        "count =0\n",
        "\n",
        "while (count<=n):\n",
        "  if (i%2==0):\n",
        "       \n",
        "       sum=sum+i\n",
        "       count +=1\n",
        "  i = i+1\n",
        "print(sum)"
      ]
    }
  ]
}