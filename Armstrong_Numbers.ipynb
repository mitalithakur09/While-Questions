{
  "nbformat": 4,
  "nbformat_minor": 0,
  "metadata": {
    "colab": {
      "provenance": [],
      "authorship_tag": "ABX9TyOVEydMxaQtNmwaeOmLO3J5",
      "include_colab_link": true
    },
    "kernelspec": {
      "name": "python3",
      "display_name": "Python 3"
    },
    "language_info": {
      "name": "python"
    }
  },
  "cells": [
    {
      "cell_type": "markdown",
      "metadata": {
        "id": "view-in-github",
        "colab_type": "text"
      },
      "source": [
        "<a href=\"https://colab.research.google.com/github/mitalithakur09/While-Questions/blob/main/Armstrong_Numbers.ipynb\" target=\"_parent\"><img src=\"https://colab.research.google.com/assets/colab-badge.svg\" alt=\"Open In Colab\"/></a>"
      ]
    },
    {
      "cell_type": "code",
      "execution_count": 18,
      "metadata": {
        "colab": {
          "base_uri": "https://localhost:8080/"
        },
        "id": "nBc48gkJNBjQ",
        "outputId": "23ebb155-e672-41b8-8506-bb6a27be9d3c"
      },
      "outputs": [
        {
          "output_type": "stream",
          "name": "stdout",
          "text": [
            "153\n",
            "Armstrong number\n"
          ]
        }
      ],
      "source": [
        "n = 153\n",
        "orig = n\n",
        "sum=0\n",
        "while (n>0):\n",
        "  sum = sum + (n  % 10)*(n%10)*(n%10)\n",
        "  n = n//10\n",
        "print(sum)\n",
        "if orig==sum:\n",
        "  print(\"Armstrong number\")\n",
        "else:\n",
        "  print(n)\n"
      ]
    }
  ]
}