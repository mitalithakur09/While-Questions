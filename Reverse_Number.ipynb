{
  "nbformat": 4,
  "nbformat_minor": 0,
  "metadata": {
    "colab": {
      "provenance": [],
      "authorship_tag": "ABX9TyPI/86Kpx2zUP0zTp8CUfcZ",
      "include_colab_link": true
    },
    "kernelspec": {
      "name": "python3",
      "display_name": "Python 3"
    },
    "language_info": {
      "name": "python"
    }
  },
  "cells": [
    {
      "cell_type": "markdown",
      "metadata": {
        "id": "view-in-github",
        "colab_type": "text"
      },
      "source": [
        "<a href=\"https://colab.research.google.com/github/mitalithakur09/While-Questions/blob/main/Reverse_Number.ipynb\" target=\"_parent\"><img src=\"https://colab.research.google.com/assets/colab-badge.svg\" alt=\"Open In Colab\"/></a>"
      ]
    },
    {
      "cell_type": "code",
      "execution_count": 20,
      "metadata": {
        "colab": {
          "base_uri": "https://localhost:8080/"
        },
        "id": "sTJJjADa454N",
        "outputId": "ff15907f-4dad-460a-b5eb-6dd30bb95155"
      },
      "outputs": [
        {
          "output_type": "stream",
          "name": "stdout",
          "text": [
            "3251\n"
          ]
        }
      ],
      "source": [
        "n=1523\n",
        "rev=0\n",
        "\n",
        "while n!=0:\n",
        "  digit = n%10\n",
        "  rev = rev*10+digit\n",
        "  n=n//10\n",
        "print(rev)\n",
        "\n"
      ]
    }
  ]
}